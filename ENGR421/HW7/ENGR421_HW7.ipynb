{
  "nbformat": 4,
  "nbformat_minor": 0,
  "metadata": {
    "colab": {
      "provenance": []
    },
    "kernelspec": {
      "name": "python3",
      "display_name": "Python 3"
    },
    "language_info": {
      "name": "python"
    }
  },
  "cells": [
    {
      "cell_type": "code",
      "execution_count": null,
      "metadata": {
        "id": "YK-zjgFDqRdv"
      },
      "outputs": [],
      "source": [
        "import numpy as np\n",
        "import matplotlib.pyplot as plt\n",
        "import pandas as pd\n",
        "import scipy.spatial as spa\n",
        "import math"
      ]
    },
    {
      "cell_type": "code",
      "source": [
        "from google.colab import drive\n",
        "drive.mount('/content/drive')"
      ],
      "metadata": {
        "colab": {
          "base_uri": "https://localhost:8080/"
        },
        "id": "7QSMuVTWsKsD",
        "outputId": "0484b1b6-9a3c-4b68-87af-2354cfb8fee7"
      },
      "execution_count": null,
      "outputs": [
        {
          "output_type": "stream",
          "name": "stdout",
          "text": [
            "Drive already mounted at /content/drive; to attempt to forcibly remount, call drive.mount(\"/content/drive\", force_remount=True).\n"
          ]
        }
      ]
    },
    {
      "cell_type": "code",
      "source": [
        "dataset = np.asarray(pd.read_csv(\"/content/drive/MyDrive/hw07_data_set.csv\", header = None))\n",
        "initial_centroids = np.asarray(pd.read_csv(\"/content/drive/MyDrive/hw07_initial_centroids.csv\", header =None))\n",
        "\n",
        "#number of classes\n",
        "K = initial_centroids.shape[0]\n",
        "\n",
        "#number of datapoints\n",
        "N = dataset.shape[0]"
      ],
      "metadata": {
        "id": "GD-P7IB6sHzZ"
      },
      "execution_count": null,
      "outputs": []
    },
    {
      "cell_type": "code",
      "source": [
        "#properties of the data distribution as given in the homework description\n",
        "original_class_means = np.array([[2.5,2.5], [-2.5,2.5], [-2.5,-2.5], [2.5,-2.5], [0,0]])\n",
        "\n",
        "original_class_covariances = [np.vstack([[0.8, -0.6],[-0.6,0.8]]), np.vstack([[0.8, 0.6], [0.6, 0.8]]), np.vstack([[0.8, -0.6], [-0.6,0.8]]), np.vstack([[0.8, 0.6], [0.6, 0.8]]), np.vstack([[1.6, 0.0], [0.0, 1.6]])]\n",
        "\n",
        "original_class_sizes = np.array([50,50,50,50,100])\n"
      ],
      "metadata": {
        "id": "iGPF-2rhus65"
      },
      "execution_count": null,
      "outputs": []
    },
    {
      "cell_type": "code",
      "source": [
        "print(initial_centroids)"
      ],
      "metadata": {
        "colab": {
          "base_uri": "https://localhost:8080/"
        },
        "id": "7uhXVMbV0dZc",
        "outputId": "3d2dab19-9b29-4eb5-d5cf-13b3cab74ddb"
      },
      "execution_count": null,
      "outputs": [
        {
          "output_type": "stream",
          "name": "stdout",
          "text": [
            "[[-3.0439416   0.32509753]\n",
            " [-0.30377397  3.73480678]\n",
            " [ 1.17587258 -2.50984601]\n",
            " [ 0.91037084  0.87608158]\n",
            " [-1.98588337  2.98466811]]\n"
          ]
        }
      ]
    },
    {
      "cell_type": "code",
      "source": [
        "plt.figure(figsize = (8, 8))\n",
        "plt.plot(dataset[:,0], dataset[:,1], \".\", markersize = 8, color = \"black\")"
      ],
      "metadata": {
        "colab": {
          "base_uri": "https://localhost:8080/",
          "height": 501
        },
        "id": "GW0Y6m-VsoZm",
        "outputId": "ef8c339f-c063-42d6-df1b-0330f66059c9"
      },
      "execution_count": null,
      "outputs": [
        {
          "output_type": "execute_result",
          "data": {
            "text/plain": [
              "[<matplotlib.lines.Line2D at 0x7f97445c5dd0>]"
            ]
          },
          "metadata": {},
          "execution_count": 121
        },
        {
          "output_type": "display_data",
          "data": {
            "image/png": "[encoded data removed]",
            "text/plain": [
              "<Figure size 576x576 with 1 Axes>"
            ]
          },
          "metadata": {
            "needs_background": "light"
          }
        }
      ]
    },
    {
      "cell_type": "code",
      "source": [
        "#taken from lab11 code\n",
        "def update_memberships(centroids, X):\n",
        "    # calculate distances between centroids and data points\n",
        "    D = spa.distance_matrix(centroids, X)\n",
        "    # find the nearest centroid for each data point\n",
        "    memberships = np.argmin(D, axis = 0)\n",
        "\n",
        "    return(memberships)"
      ],
      "metadata": {
        "id": "6RpBhilXrY-z"
      },
      "execution_count": null,
      "outputs": []
    },
    {
      "cell_type": "code",
      "source": [
        "#adapted from lab11 code\n",
        "def plot_current_state(centroids, memberships, X):\n",
        "    cluster_colors = np.array([\"#1f78b4\", \"#33a02c\", \"#e31a1c\", \"#ff7f00\", \"#6a3d9a\"])\n",
        "\n",
        "    for c in range(K):\n",
        "      plt.plot(X[memberships == c, 0], X[memberships == c, 1], \".\", markersize = 10,  color = cluster_colors[c])\n",
        "\n",
        "    plt.xlabel(\"x1\")\n",
        "    plt.ylabel(\"x2\")"
      ],
      "metadata": {
        "id": "MmWxFt8DrZlb"
      },
      "execution_count": null,
      "outputs": []
    },
    {
      "cell_type": "code",
      "source": [
        "#initialization of means, covariances, and frequencies\n",
        "means = initial_centroids\n",
        "\n",
        "memberships = update_memberships(initial_centroids, dataset)\n",
        "\n",
        "groups, covariances = [], []\n",
        "groups.append([dataset[memberships == c] for c in range(K)])\n",
        "\n",
        "covariances.append([np.cov(groups[0][c][:,0], groups[0][c][:,1]) for c in range(K)])\n",
        "covariances = np.squeeze(np.asarray(covariances))\n",
        "\n",
        "frequencies = np.bincount(memberships) / N"
      ],
      "metadata": {
        "id": "Z_EmIPCUH35i"
      },
      "execution_count": null,
      "outputs": []
    },
    {
      "cell_type": "code",
      "source": [
        "def e_step(point,class_no):\n",
        "  D = point.shape[0]\n",
        "\n",
        "  #1/sqrt(2pi^D x |sigma|)\n",
        "  a = ((2*math.pi)**D * np.linalg.det(covariances[class_no]))**-1/2\n",
        "\n",
        "  #e^(-0.5 x (x-mu)T x sigma' x (x-mu))\n",
        "  expon = np.exp(-1/2*np.dot(np.dot((point-means[class_no]).transpose(),np.linalg.inv(covariances[class_no])), (point-means[class_no])))\n",
        "\n",
        "  return a * expon * frequencies[class_no] #p(x|y=c) * P(y=c)\n",
        ""
      ],
      "metadata": {
        "id": "3jVUFbV3dSop"
      },
      "execution_count": null,
      "outputs": []
    },
    {
      "cell_type": "code",
      "source": [
        "def m_step(hk, class_no):\n",
        "\n",
        "  #updating means\n",
        "  means[class_no,:] = np.sum(np.multiply(hk[None].T, dataset), axis = 0)/np.sum(hk)\n",
        "\n",
        "  #updating covariances\n",
        "  diff = dataset - means[class_no]\n",
        "  covariances[class_no] = np.matmul(np.transpose(diff),diff*np.transpose(hk[None])) / np.sum(hk)\n",
        "\n",
        "  #update class frequencies\n",
        "  frequencies[class_no] = np.sum(hk)/N\n"
      ],
      "metadata": {
        "id": "wih2brElweRv"
      },
      "execution_count": null,
      "outputs": []
    },
    {
      "cell_type": "code",
      "source": [
        "#EM algorithm iterations\n",
        "iterations = 100\n",
        "\n",
        "for i in range(iterations):\n",
        "    H = list()\n",
        "    print(\"Iteration #{}\".format(i+1))\n",
        "\n",
        "    for c in range(K):\n",
        "      H.append(np.asarray([e_step(dataset[p],c) for p in range(N)]))\n",
        "\n",
        "    H = np.asarray(H) / np.sum(H, axis =0)\n",
        "\n",
        "    for c in range(K):\n",
        "      m_step(H[c], c)\n"
      ],
      "metadata": {
        "id": "394W5cW9ri1k",
        "colab": {
          "base_uri": "https://localhost:8080/"
        },
        "outputId": "59747904-775f-4b7c-ed5d-f747a31fffef"
      },
      "execution_count": null,
      "outputs": [
        {
          "output_type": "stream",
          "name": "stdout",
          "text": [
            "Iteration #1\n",
            "Iteration #2\n",
            "Iteration #3\n",
            "Iteration #4\n",
            "Iteration #5\n",
            "Iteration #6\n",
            "Iteration #7\n",
            "Iteration #8\n",
            "Iteration #9\n",
            "Iteration #10\n",
            "Iteration #11\n",
            "Iteration #12\n",
            "Iteration #13\n",
            "Iteration #14\n",
            "Iteration #15\n",
            "Iteration #16\n",
            "Iteration #17\n",
            "Iteration #18\n",
            "Iteration #19\n",
            "Iteration #20\n",
            "Iteration #21\n",
            "Iteration #22\n",
            "Iteration #23\n",
            "Iteration #24\n",
            "Iteration #25\n",
            "Iteration #26\n",
            "Iteration #27\n",
            "Iteration #28\n",
            "Iteration #29\n",
            "Iteration #30\n",
            "Iteration #31\n",
            "Iteration #32\n",
            "Iteration #33\n",
            "Iteration #34\n",
            "Iteration #35\n",
            "Iteration #36\n",
            "Iteration #37\n",
            "Iteration #38\n",
            "Iteration #39\n",
            "Iteration #40\n",
            "Iteration #41\n",
            "Iteration #42\n",
            "Iteration #43\n",
            "Iteration #44\n",
            "Iteration #45\n",
            "Iteration #46\n",
            "Iteration #47\n",
            "Iteration #48\n",
            "Iteration #49\n",
            "Iteration #50\n",
            "Iteration #51\n",
            "Iteration #52\n",
            "Iteration #53\n",
            "Iteration #54\n",
            "Iteration #55\n",
            "Iteration #56\n",
            "Iteration #57\n",
            "Iteration #58\n",
            "Iteration #59\n",
            "Iteration #60\n",
            "Iteration #61\n",
            "Iteration #62\n",
            "Iteration #63\n",
            "Iteration #64\n",
            "Iteration #65\n",
            "Iteration #66\n",
            "Iteration #67\n",
            "Iteration #68\n",
            "Iteration #69\n",
            "Iteration #70\n",
            "Iteration #71\n",
            "Iteration #72\n",
            "Iteration #73\n",
            "Iteration #74\n",
            "Iteration #75\n",
            "Iteration #76\n",
            "Iteration #77\n",
            "Iteration #78\n",
            "Iteration #79\n",
            "Iteration #80\n",
            "Iteration #81\n",
            "Iteration #82\n",
            "Iteration #83\n",
            "Iteration #84\n",
            "Iteration #85\n",
            "Iteration #86\n",
            "Iteration #87\n",
            "Iteration #88\n",
            "Iteration #89\n",
            "Iteration #90\n",
            "Iteration #91\n",
            "Iteration #92\n",
            "Iteration #93\n",
            "Iteration #94\n",
            "Iteration #95\n",
            "Iteration #96\n",
            "Iteration #97\n",
            "Iteration #98\n",
            "Iteration #99\n",
            "Iteration #100\n"
          ]
        }
      ]
    },
    {
      "cell_type": "code",
      "source": [
        "print(means)"
      ],
      "metadata": {
        "id": "R4ZTanKNl3Nb",
        "colab": {
          "base_uri": "https://localhost:8080/"
        },
        "outputId": "afcdac17-297c-4ae3-cf50-1202d0cf477c"
      },
      "execution_count": null,
      "outputs": [
        {
          "output_type": "stream",
          "name": "stdout",
          "text": [
            "[[-2.34421425 -2.46771887]\n",
            " [ 2.49054294  2.4749381 ]\n",
            " [ 2.55433757 -2.49150695]\n",
            " [ 0.15688058  0.16818892]\n",
            " [-2.31604076  2.4718563 ]]\n"
          ]
        }
      ]
    },
    {
      "cell_type": "code",
      "source": [
        "memberships = update_memberships(means, dataset)\n",
        "plot_current_state(means, memberships, dataset)\n"
      ],
      "metadata": {
        "id": "fnwVsg3wleGE",
        "colab": {
          "base_uri": "https://localhost:8080/",
          "height": 278
        },
        "outputId": "c6300de9-c1e0-4f9a-cbe3-7640d6a9795a"
      },
      "execution_count": null,
      "outputs": [
        {
          "output_type": "display_data",
          "data": {
            "image/png": "[encoded data removed]",
            "text/plain": [
              "<Figure size 432x288 with 1 Axes>"
            ]
          },
          "metadata": {
            "needs_background": "light"
          }
        }
      ]
    }
  ]
}